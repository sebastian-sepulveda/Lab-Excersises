{
 "cells": [
  {
   "cell_type": "markdown",
   "id": "110a38d8",
   "metadata": {},
   "source": [
    "__1. Write a program that will tell you what the longest word is in the list.__"
   ]
  },
  {
   "cell_type": "code",
   "execution_count": 2,
   "id": "a7f67e5a",
   "metadata": {},
   "outputs": [
    {
     "name": "stdout",
     "output_type": "stream",
     "text": [
      "chestnut\n"
     ]
    }
   ],
   "source": [
    "words = [\"apple\", \"chestnut\", \"gargoyle\", \"pandas\", \"sheep\", \"raptor\"]\n",
    "\n",
    "def longest(word):\n",
    "    longest_word = max(word, key = len)\n",
    "    print(longest_word)\n",
    "\n",
    "longest(words)"
   ]
  },
  {
   "cell_type": "markdown",
   "id": "72957133",
   "metadata": {},
   "source": [
    "__2. Now that you have built the program above, in a new cell, edit your program: import a .txt file of a list of words and have your program randomly choose 7 words from the file to add to a list, and then have the program determine the longest word as you did above.__"
   ]
  },
  {
   "cell_type": "code",
   "execution_count": 14,
   "id": "2706b0e8",
   "metadata": {},
   "outputs": [
    {
     "name": "stdout",
     "output_type": "stream",
     "text": [
      "['AGORAS', 'POULTRIES', 'CANNABIS', 'ACCLIMATATIONS', 'YARDARMS', 'BUBA', 'CRAWLY']\n",
      "ACCLIMATATIONS\n"
     ]
    }
   ],
   "source": [
    "import csv\n",
    "import random\n",
    "\n",
    "random_words = \"sowpods.txt\"\n",
    "\n",
    "def word_generator():\n",
    "    random_words\n",
    "    f = open(random_words)\n",
    "    words = f.readlines()\n",
    "    f.close()\n",
    "    \n",
    "    return random.sample(words, 7)\n",
    "\n",
    "#random word generator from Prof. Gibson's lecture slides.\n",
    "\n",
    "list = word_generator()\n",
    "\n",
    "list[0] = list[0][:len(list[0])-1]\n",
    "list[1] = list[1][:len(list[1])-1]\n",
    "list[2] = list[2][:len(list[2])-1]\n",
    "list[3] = list[3][:len(list[3])-1]\n",
    "list[4] = list[4][:len(list[4])-1]\n",
    "list[5] = list[5][:len(list[5])-1]\n",
    "list[6] = list[6][:len(list[6])-1]\n",
    "\n",
    "#had to do this ^ to get rid of the /n at the end of every word. tried to put it in a loop but could not get it to work.\n",
    "\n",
    "print(list)\n",
    "longest(list)"
   ]
  },
  {
   "cell_type": "markdown",
   "id": "b1ca0f20",
   "metadata": {},
   "source": [
    "__3. Build a program that uses dictionaries and incorporates at least 4 built-in methods.__"
   ]
  },
  {
   "cell_type": "code",
   "execution_count": 131,
   "id": "f56f7428",
   "metadata": {},
   "outputs": [
    {
     "name": "stdout",
     "output_type": "stream",
     "text": [
      "10\n",
      "{'pencils': 10, 'notebooks': 4, 'pencil sharpener': 1, 'eraser': 2, 'markers': 5}\n",
      "{'pencils': 10, 'notebooks': 4, 'eraser': 2, 'markers': 5}\n",
      "{'pencils': 10, 'notebooks': 4, 'eraser': 4, 'markers': 5}\n"
     ]
    }
   ],
   "source": [
    "school_supplies = {\"pencils\": 10, \"notebooks\": 4, \"pencil sharpener\": 1, \"eraser\": 2}\n",
    "\n",
    "#find out how many pencils we need:\n",
    "print(school_supplies.get(\"pencils\"))\n",
    "\n",
    "#add to the list:\n",
    "school_supplies[\"markers\"] = 5\n",
    "print(school_supplies)\n",
    "\n",
    "#remove from the list:\n",
    "school_supplies.pop(\"pencil sharpener\")\n",
    "print(school_supplies)\n",
    "\n",
    "#update the list:\n",
    "school_supplies.update({\"eraser\": 4})\n",
    "print(school_supplies)"
   ]
  },
  {
   "cell_type": "markdown",
   "id": "b2be1a63",
   "metadata": {},
   "source": [
    "__4. Build a class that allows you to create your own flashcards and then allow you to review them__"
   ]
  },
  {
   "cell_type": "code",
   "execution_count": 145,
   "id": "be6610e7",
   "metadata": {},
   "outputs": [
    {
     "name": "stdout",
     "output_type": "stream",
     "text": [
      "I am a junior taking spanish\n",
      "Amor\n"
     ]
    }
   ],
   "source": [
    "#A class focused on students taking a language course, specifically spanish.\n",
    "\n",
    "class English_to_Spanish:\n",
    "    def __init__ (self, language, year):\n",
    "        self.language = language\n",
    "        self.year = year\n",
    "\n",
    "#function that prints out the students information, so their year and what language class they are taking\n",
    "\n",
    "    def student(self):\n",
    "        print(f\"I am a {self.year} taking {self.language}\")\n",
    "        \n",
    "#function that allows you to input a basic word in english to find the spanish equivalent. meant to emulate flash cards.\n",
    "        \n",
    "    def review(self, word):\n",
    "        if word.lower() == \"hello\":\n",
    "            print(\"Hola\")\n",
    "        if word.lower() == \"bye\":\n",
    "            print(\"Adios\")\n",
    "        if word.lower() == \"us\":\n",
    "            print(\"Nosotros\")\n",
    "        if word.lower() == \"my name is\":\n",
    "            print(\"Me llamo\")\n",
    "        if word.lower() == \"love\":\n",
    "            print(\"Amor\")\n",
    "        if word.lower() == \"thank you\":\n",
    "            print(\"Gracias\")\n",
    "\n",
    "s = English_to_Spanish(\"spanish\", \"junior\")\n",
    "s.student()\n",
    "s.review(\"love\")"
   ]
  },
  {
   "cell_type": "markdown",
   "id": "10072e31",
   "metadata": {},
   "source": [
    "__5. Finalize your Hangman program and submit it.__"
   ]
  },
  {
   "cell_type": "code",
   "execution_count": 5,
   "id": "b209f439",
   "metadata": {},
   "outputs": [],
   "source": [
    "import random \n",
    "\n",
    "#I added the random words generator dr. gibson provided us in her lecture slides, changed slightly to fit the game:\n",
    "\n",
    "random_words = \"sowpods.txt\"\n",
    "\n",
    "def word_generator():\n",
    "    random_words\n",
    "    f = open(random_words)\n",
    "    words = f.readlines()\n",
    "    f.close()\n",
    "    \n",
    "    return random.choice(words).strip().lower()\n",
    "\n",
    "#I worked on the base model with John (Jack) Kane during class\n",
    "#the main difference I made was adding a way of seeing which letters you guessed and where they were in the word\n",
    "#essentially, i made the presentation a little bit clearer for those playing the game\n",
    "\n",
    "def hangman():\n",
    "    word = word_generator()\n",
    "    correct_list = []\n",
    "    current_list = []\n",
    "    incorrect_letters = []\n",
    "    lives = 10\n",
    "\n",
    "    for i in word:\n",
    "        correct_list.append(i)\n",
    "        current_list.append(\"_\")\n",
    "\n",
    "    while lives != 0:\n",
    "        guess = input(\"Guess a letter: \").lower()\n",
    "        if guess in correct_list:\n",
    "            print(\"  \")\n",
    "            print(f\"Correct, there is {correct_list.count(guess)} in the word.\")\n",
    "            current_list[correct_list.index(guess)] = guess\n",
    "            correct_list[correct_list.index(guess)] = \"_\"\n",
    "            print(current_list)\n",
    "            print(\"Incorrect letters:\")\n",
    "            print(incorrect_letters)\n",
    "        else:\n",
    "            lives -= 1\n",
    "            print(\"  \")\n",
    "            print(f\"Incorrect, there is no {guess} in the word.\")\n",
    "            incorrect_letters.append(guess)\n",
    "            print(current_list)\n",
    "            print(\"Incorrect letters:\")\n",
    "            print(incorrect_letters)\n",
    "        if \"_\" not in current_list:\n",
    "            print(\"  \")\n",
    "            print(\"You have won the game\")\n",
    "            break\n",
    "        if lives == 0:\n",
    "            print(\"You lose\")\n",
    "            print(f\"The correct word was {word}\")"
   ]
  },
  {
   "cell_type": "code",
   "execution_count": 6,
   "id": "d3c8a994",
   "metadata": {
    "scrolled": true
   },
   "outputs": [
    {
     "name": "stdout",
     "output_type": "stream",
     "text": [
      "Guess a letter: s\n",
      "  \n",
      "Incorrect, there is no s in the word.\n",
      "['_', '_', '_', '_', '_', '_', '_', '_', '_', '_']\n",
      "Incorrect letters:\n",
      "['s']\n",
      "Guess a letter: a\n",
      "  \n",
      "Correct, there is 1 in the word.\n",
      "['_', 'a', '_', '_', '_', '_', '_', '_', '_', '_']\n",
      "Incorrect letters:\n",
      "['s']\n",
      "Guess a letter: c\n",
      "  \n",
      "Correct, there is 1 in the word.\n",
      "['c', 'a', '_', '_', '_', '_', '_', '_', '_', '_']\n",
      "Incorrect letters:\n",
      "['s']\n",
      "Guess a letter: e\n",
      "  \n",
      "Incorrect, there is no e in the word.\n",
      "['c', 'a', '_', '_', '_', '_', '_', '_', '_', '_']\n",
      "Incorrect letters:\n",
      "['s', 'e']\n",
      "Guess a letter: i\n",
      "  \n",
      "Correct, there is 1 in the word.\n",
      "['c', 'a', '_', '_', '_', '_', '_', 'i', '_', '_']\n",
      "Incorrect letters:\n",
      "['s', 'e']\n",
      "Guess a letter: t\n",
      "  \n",
      "Correct, there is 1 in the word.\n",
      "['c', 'a', '_', 't', '_', '_', '_', 'i', '_', '_']\n",
      "Incorrect letters:\n",
      "['s', 'e']\n",
      "Guess a letter: n\n",
      "  \n",
      "Incorrect, there is no n in the word.\n",
      "['c', 'a', '_', 't', '_', '_', '_', 'i', '_', '_']\n",
      "Incorrect letters:\n",
      "['s', 'e', 'n']\n",
      "Guess a letter: m\n",
      "  \n",
      "Incorrect, there is no m in the word.\n",
      "['c', 'a', '_', 't', '_', '_', '_', 'i', '_', '_']\n",
      "Incorrect letters:\n",
      "['s', 'e', 'n', 'm']\n",
      "Guess a letter: p\n",
      "  \n",
      "Correct, there is 1 in the word.\n",
      "['c', 'a', '_', 't', '_', 'p', '_', 'i', '_', '_']\n",
      "Incorrect letters:\n",
      "['s', 'e', 'n', 'm']\n",
      "Guess a letter: u\n",
      "  \n",
      "Incorrect, there is no u in the word.\n",
      "['c', 'a', '_', 't', '_', 'p', '_', 'i', '_', '_']\n",
      "Incorrect letters:\n",
      "['s', 'e', 'n', 'm', 'u']\n",
      "Guess a letter: i\n",
      "  \n",
      "Incorrect, there is no i in the word.\n",
      "['c', 'a', '_', 't', '_', 'p', '_', 'i', '_', '_']\n",
      "Incorrect letters:\n",
      "['s', 'e', 'n', 'm', 'u', 'i']\n",
      "Guess a letter: r\n",
      "  \n",
      "Correct, there is 1 in the word.\n",
      "['c', 'a', 'r', 't', '_', 'p', '_', 'i', '_', '_']\n",
      "Incorrect letters:\n",
      "['s', 'e', 'n', 'm', 'u', 'i']\n",
      "Guess a letter: o\n",
      "  \n",
      "Correct, there is 1 in the word.\n",
      "['c', 'a', 'r', 't', 'o', 'p', '_', 'i', '_', '_']\n",
      "Incorrect letters:\n",
      "['s', 'e', 'n', 'm', 'u', 'i']\n",
      "Guess a letter: l\n",
      "  \n",
      "Correct, there is 1 in the word.\n",
      "['c', 'a', 'r', 't', 'o', 'p', '_', 'i', 'l', '_']\n",
      "Incorrect letters:\n",
      "['s', 'e', 'n', 'm', 'u', 'i']\n",
      "Guess a letter: y\n",
      "  \n",
      "Correct, there is 1 in the word.\n",
      "['c', 'a', 'r', 't', 'o', 'p', '_', 'i', 'l', 'y']\n",
      "Incorrect letters:\n",
      "['s', 'e', 'n', 'm', 'u', 'i']\n",
      "Guess a letter: h\n",
      "  \n",
      "Correct, there is 1 in the word.\n",
      "['c', 'a', 'r', 't', 'o', 'p', 'h', 'i', 'l', 'y']\n",
      "Incorrect letters:\n",
      "['s', 'e', 'n', 'm', 'u', 'i']\n",
      "  \n",
      "You have won the game\n"
     ]
    }
   ],
   "source": [
    "hangman()"
   ]
  },
  {
   "cell_type": "code",
   "execution_count": null,
   "id": "29984dcb",
   "metadata": {},
   "outputs": [],
   "source": []
  }
 ],
 "metadata": {
  "kernelspec": {
   "display_name": "Python 3 (ipykernel)",
   "language": "python",
   "name": "python3"
  },
  "language_info": {
   "codemirror_mode": {
    "name": "ipython",
    "version": 3
   },
   "file_extension": ".py",
   "mimetype": "text/x-python",
   "name": "python",
   "nbconvert_exporter": "python",
   "pygments_lexer": "ipython3",
   "version": "3.9.12"
  }
 },
 "nbformat": 4,
 "nbformat_minor": 5
}
